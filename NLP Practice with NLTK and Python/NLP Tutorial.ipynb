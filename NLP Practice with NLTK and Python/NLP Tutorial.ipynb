{
 "cells": [
  {
   "cell_type": "markdown",
   "id": "b5c1e899",
   "metadata": {},
   "source": [
    "# Basic Practise Using NLTK"
   ]
  },
  {
   "cell_type": "code",
   "execution_count": 1,
   "id": "7535fa70",
   "metadata": {},
   "outputs": [],
   "source": [
    "# Libraries\n",
    "import os\n",
    "import nltk\n",
    "import nltk.corpus"
   ]
  },
  {
   "cell_type": "markdown",
   "id": "c61af475",
   "metadata": {},
   "source": [
    "NLTK Corpus"
   ]
  },
  {
   "cell_type": "code",
   "execution_count": 2,
   "id": "6d29404f",
   "metadata": {},
   "outputs": [
    {
     "name": "stdout",
     "output_type": "stream",
     "text": [
      "['abc', 'abc.zip', 'alpino', 'alpino.zip', 'bcp47.zip', 'biocreative_ppi', 'biocreative_ppi.zip', 'brown', 'brown.zip', 'brown_tei', 'brown_tei.zip', 'cess_cat', 'cess_cat.zip', 'cess_esp', 'cess_esp.zip', 'chat80', 'chat80.zip', 'city_database', 'city_database.zip', 'cmudict', 'cmudict.zip', 'comparative_sentences', 'comparative_sentences.zip', 'comtrans.zip', 'conll2000', 'conll2000.zip', 'conll2002', 'conll2002.zip', 'conll2007.zip', 'crubadan', 'crubadan.zip', 'dependency_treebank', 'dependency_treebank.zip', 'dolch', 'dolch.zip', 'europarl_raw', 'europarl_raw.zip', 'extended_omw.zip', 'floresta', 'floresta.zip', 'framenet_v15', 'framenet_v15.zip', 'framenet_v17', 'framenet_v17.zip', 'gazetteers', 'gazetteers.zip', 'genesis', 'genesis.zip', 'gutenberg', 'gutenberg.zip', 'ieer', 'ieer.zip', 'inaugural', 'inaugural.zip', 'indian', 'indian.zip', 'jeita.zip', 'kimmo', 'kimmo.zip', 'knbc.zip', 'lin_thesaurus', 'lin_thesaurus.zip', 'machado.zip', 'mac_morpho', 'mac_morpho.zip', 'masc_tagged.zip', 'movie_reviews', 'movie_reviews.zip', 'mte_teip5', 'mte_teip5.zip', 'names', 'names.zip', 'nombank.1.0.zip', 'nonbreaking_prefixes', 'nonbreaking_prefixes.zip', 'nps_chat', 'nps_chat.zip', 'omw-1.4.zip', 'omw.zip', 'opinion_lexicon', 'opinion_lexicon.zip', 'panlex_swadesh.zip', 'paradigms', 'paradigms.zip', 'pe08', 'pe08.zip', 'pil', 'pil.zip', 'pl196x', 'pl196x.zip', 'ppattach', 'ppattach.zip', 'problem_reports', 'problem_reports.zip', 'product_reviews_1', 'product_reviews_1.zip', 'product_reviews_2', 'product_reviews_2.zip', 'propbank.zip', 'pros_cons', 'pros_cons.zip', 'ptb', 'ptb.zip', 'qc', 'qc.zip', 'reuters.zip', 'rte', 'rte.zip', 'semcor.zip', 'senseval', 'senseval.zip', 'sentence_polarity', 'sentence_polarity.zip', 'sentiwordnet', 'sentiwordnet.zip', 'shakespeare', 'shakespeare.zip', 'sinica_treebank', 'sinica_treebank.zip', 'smultron', 'smultron.zip', 'state_union', 'state_union.zip', 'stopwords', 'stopwords.zip', 'subjectivity', 'subjectivity.zip', 'swadesh', 'swadesh.zip', 'switchboard', 'switchboard.zip', 'timit', 'timit.zip', 'toolbox', 'toolbox.zip', 'treebank', 'treebank.zip', 'twitter_samples', 'twitter_samples.zip', 'udhr', 'udhr.zip', 'udhr2', 'udhr2.zip', 'unicode_samples', 'unicode_samples.zip', 'universal_treebanks_v20.zip', 'verbnet', 'verbnet.zip', 'verbnet3', 'verbnet3.zip', 'webtext', 'webtext.zip', 'wordnet.zip', 'wordnet2021.zip', 'wordnet2022', 'wordnet2022.zip', 'wordnet31.zip', 'wordnet_ic', 'wordnet_ic.zip', 'words', 'words.zip', 'ycoe', 'ycoe.zip']\n"
     ]
    }
   ],
   "source": [
    "print(os.listdir(nltk.data.find('corpora')))"
   ]
  },
  {
   "cell_type": "code",
   "execution_count": 3,
   "id": "3ea009f7",
   "metadata": {},
   "outputs": [
    {
     "data": {
      "text/plain": [
       "['In', 'the', 'beginning', 'God', 'created', 'the', ...]"
      ]
     },
     "execution_count": 3,
     "metadata": {},
     "output_type": "execute_result"
    }
   ],
   "source": [
    "from nltk.corpus import genesis\n",
    "genesis.words()"
   ]
  },
  {
   "cell_type": "code",
   "execution_count": 4,
   "id": "1b46bd6f",
   "metadata": {},
   "outputs": [
    {
     "data": {
      "text/plain": [
       "['austen-emma.txt',\n",
       " 'austen-persuasion.txt',\n",
       " 'austen-sense.txt',\n",
       " 'bible-kjv.txt',\n",
       " 'blake-poems.txt',\n",
       " 'bryant-stories.txt',\n",
       " 'burgess-busterbrown.txt',\n",
       " 'carroll-alice.txt',\n",
       " 'chesterton-ball.txt',\n",
       " 'chesterton-brown.txt',\n",
       " 'chesterton-thursday.txt',\n",
       " 'edgeworth-parents.txt',\n",
       " 'melville-moby_dick.txt',\n",
       " 'milton-paradise.txt',\n",
       " 'shakespeare-caesar.txt',\n",
       " 'shakespeare-hamlet.txt',\n",
       " 'shakespeare-macbeth.txt',\n",
       " 'whitman-leaves.txt']"
      ]
     },
     "execution_count": 4,
     "metadata": {},
     "output_type": "execute_result"
    }
   ],
   "source": [
    "nltk.corpus.gutenberg.fileids()"
   ]
  },
  {
   "cell_type": "code",
   "execution_count": 5,
   "id": "4e7269ee",
   "metadata": {},
   "outputs": [
    {
     "data": {
      "text/plain": [
       "['[', 'The', 'Tragedie', 'of', 'Julius', 'Caesar', ...]"
      ]
     },
     "execution_count": 5,
     "metadata": {},
     "output_type": "execute_result"
    }
   ],
   "source": [
    "stabbed_in_the_back = nltk.corpus.gutenberg.words('shakespeare-caesar.txt')\n",
    "stabbed_in_the_back "
   ]
  },
  {
   "cell_type": "code",
   "execution_count": 6,
   "id": "07e24f3e",
   "metadata": {},
   "outputs": [
    {
     "name": "stdout",
     "output_type": "stream",
     "text": [
      "[ The Tragedie of Julius Caesar by William Shakespeare 1599 ] Actus Primus . Scoena Prima . Enter Flauius , Murellus , and certaine Commoners ouer the Stage . Flauius . Hence : home you idle Creatures , get you home : Is this a Holiday ? What , know you not ( Being Mechanicall ) you ought not walke Vpon a labouring day , without the signe Of your Profession ? Speake , what Trade art thou ? Car . Why Sir , a Carpenter Mur . Where is thy Leather Apron , and thy Rule ? What dost "
     ]
    }
   ],
   "source": [
    "for words in stabbed_in_the_back[:100]:\n",
    "    print(words, sep=' ', end=' ')"
   ]
  },
  {
   "cell_type": "markdown",
   "id": "ac2f1762",
   "metadata": {},
   "source": [
    "NLTK Tokenizations"
   ]
  },
  {
   "cell_type": "code",
   "execution_count": 7,
   "id": "da501d4b",
   "metadata": {},
   "outputs": [],
   "source": [
    "Batman = \"\"\"Batman is a fictional superhero appearing in American comic books published by DC Comics. Created by artist Bob Kane and writer Bill Finger, Batman first appeared in Detective Comics #27 in 1939. He is the alter ego of Bruce Wayne, a wealthy businessman and philanthropist who witnessed the murder of his parents as a child and swore to avenge their deaths by fighting crime in Gotham City.\n",
    "\n",
    "Unlike many superheroes, Batman does not possess superhuman powers. Instead, he relies on his intellect, detective skills, martial arts abilities, and a vast array of gadgets and technology to combat crime. His iconic costume features a bat motif, including a cape that allows him to glide, and various utility belts filled with tools and weapons.\n",
    "\n",
    "Over the years, Batman has become one of the most popular and enduring characters in comic books, spawning numerous adaptations in other media, including television shows, films, video games, and animated series. The character's complex psychology and dark, brooding persona have made him a symbol of justice and vengeance in popular culture.\"\"\""
   ]
  },
  {
   "cell_type": "code",
   "execution_count": 8,
   "id": "d407e4e9",
   "metadata": {},
   "outputs": [
    {
     "data": {
      "text/plain": [
       "str"
      ]
     },
     "execution_count": 8,
     "metadata": {},
     "output_type": "execute_result"
    }
   ],
   "source": [
    "type(Batman)"
   ]
  },
  {
   "cell_type": "code",
   "execution_count": 9,
   "id": "44009586",
   "metadata": {},
   "outputs": [],
   "source": [
    "from nltk.tokenize import word_tokenize"
   ]
  },
  {
   "cell_type": "code",
   "execution_count": 10,
   "id": "19a8d16b",
   "metadata": {},
   "outputs": [
    {
     "data": {
      "text/plain": [
       "['Batman',\n",
       " 'is',\n",
       " 'a',\n",
       " 'fictional',\n",
       " 'superhero',\n",
       " 'appearing',\n",
       " 'in',\n",
       " 'American',\n",
       " 'comic',\n",
       " 'books',\n",
       " 'published',\n",
       " 'by',\n",
       " 'DC',\n",
       " 'Comics',\n",
       " '.',\n",
       " 'Created',\n",
       " 'by',\n",
       " 'artist',\n",
       " 'Bob',\n",
       " 'Kane',\n",
       " 'and',\n",
       " 'writer',\n",
       " 'Bill',\n",
       " 'Finger',\n",
       " ',',\n",
       " 'Batman',\n",
       " 'first',\n",
       " 'appeared',\n",
       " 'in',\n",
       " 'Detective',\n",
       " 'Comics',\n",
       " '#',\n",
       " '27',\n",
       " 'in',\n",
       " '1939',\n",
       " '.',\n",
       " 'He',\n",
       " 'is',\n",
       " 'the',\n",
       " 'alter',\n",
       " 'ego',\n",
       " 'of',\n",
       " 'Bruce',\n",
       " 'Wayne',\n",
       " ',',\n",
       " 'a',\n",
       " 'wealthy',\n",
       " 'businessman',\n",
       " 'and',\n",
       " 'philanthropist',\n",
       " 'who',\n",
       " 'witnessed',\n",
       " 'the',\n",
       " 'murder',\n",
       " 'of',\n",
       " 'his',\n",
       " 'parents',\n",
       " 'as',\n",
       " 'a',\n",
       " 'child',\n",
       " 'and',\n",
       " 'swore',\n",
       " 'to',\n",
       " 'avenge',\n",
       " 'their',\n",
       " 'deaths',\n",
       " 'by',\n",
       " 'fighting',\n",
       " 'crime',\n",
       " 'in',\n",
       " 'Gotham',\n",
       " 'City',\n",
       " '.',\n",
       " 'Unlike',\n",
       " 'many',\n",
       " 'superheroes',\n",
       " ',',\n",
       " 'Batman',\n",
       " 'does',\n",
       " 'not',\n",
       " 'possess',\n",
       " 'superhuman',\n",
       " 'powers',\n",
       " '.',\n",
       " 'Instead',\n",
       " ',',\n",
       " 'he',\n",
       " 'relies',\n",
       " 'on',\n",
       " 'his',\n",
       " 'intellect',\n",
       " ',',\n",
       " 'detective',\n",
       " 'skills',\n",
       " ',',\n",
       " 'martial',\n",
       " 'arts',\n",
       " 'abilities',\n",
       " ',',\n",
       " 'and',\n",
       " 'a',\n",
       " 'vast',\n",
       " 'array',\n",
       " 'of',\n",
       " 'gadgets',\n",
       " 'and',\n",
       " 'technology',\n",
       " 'to',\n",
       " 'combat',\n",
       " 'crime',\n",
       " '.',\n",
       " 'His',\n",
       " 'iconic',\n",
       " 'costume',\n",
       " 'features',\n",
       " 'a',\n",
       " 'bat',\n",
       " 'motif',\n",
       " ',',\n",
       " 'including',\n",
       " 'a',\n",
       " 'cape',\n",
       " 'that',\n",
       " 'allows',\n",
       " 'him',\n",
       " 'to',\n",
       " 'glide',\n",
       " ',',\n",
       " 'and',\n",
       " 'various',\n",
       " 'utility',\n",
       " 'belts',\n",
       " 'filled',\n",
       " 'with',\n",
       " 'tools',\n",
       " 'and',\n",
       " 'weapons',\n",
       " '.',\n",
       " 'Over',\n",
       " 'the',\n",
       " 'years',\n",
       " ',',\n",
       " 'Batman',\n",
       " 'has',\n",
       " 'become',\n",
       " 'one',\n",
       " 'of',\n",
       " 'the',\n",
       " 'most',\n",
       " 'popular',\n",
       " 'and',\n",
       " 'enduring',\n",
       " 'characters',\n",
       " 'in',\n",
       " 'comic',\n",
       " 'books',\n",
       " ',',\n",
       " 'spawning',\n",
       " 'numerous',\n",
       " 'adaptations',\n",
       " 'in',\n",
       " 'other',\n",
       " 'media',\n",
       " ',',\n",
       " 'including',\n",
       " 'television',\n",
       " 'shows',\n",
       " ',',\n",
       " 'films',\n",
       " ',',\n",
       " 'video',\n",
       " 'games',\n",
       " ',',\n",
       " 'and',\n",
       " 'animated',\n",
       " 'series',\n",
       " '.',\n",
       " 'The',\n",
       " 'character',\n",
       " \"'s\",\n",
       " 'complex',\n",
       " 'psychology',\n",
       " 'and',\n",
       " 'dark',\n",
       " ',',\n",
       " 'brooding',\n",
       " 'persona',\n",
       " 'have',\n",
       " 'made',\n",
       " 'him',\n",
       " 'a',\n",
       " 'symbol',\n",
       " 'of',\n",
       " 'justice',\n",
       " 'and',\n",
       " 'vengeance',\n",
       " 'in',\n",
       " 'popular',\n",
       " 'culture',\n",
       " '.']"
      ]
     },
     "execution_count": 10,
     "metadata": {},
     "output_type": "execute_result"
    }
   ],
   "source": [
    "BatTokens = word_tokenize(Batman)\n",
    "BatTokens"
   ]
  },
  {
   "cell_type": "code",
   "execution_count": 11,
   "id": "af94c16c",
   "metadata": {},
   "outputs": [
    {
     "data": {
      "text/plain": [
       "200"
      ]
     },
     "execution_count": 11,
     "metadata": {},
     "output_type": "execute_result"
    }
   ],
   "source": [
    "len(BatTokens)"
   ]
  },
  {
   "cell_type": "code",
   "execution_count": 12,
   "id": "fe280bc0",
   "metadata": {},
   "outputs": [
    {
     "data": {
      "text/plain": [
       "FreqDist({',': 16, 'and': 11, '.': 8, 'a': 7, 'in': 7, 'the': 5, 'of': 5, 'batman': 4, 'by': 3, 'his': 3, ...})"
      ]
     },
     "execution_count": 12,
     "metadata": {},
     "output_type": "execute_result"
    }
   ],
   "source": [
    "from nltk.probability import FreqDist\n",
    "fdist = FreqDist()\n",
    "\n",
    "for word in BatTokens:\n",
    "    fdist[word.lower()]+=1\n",
    "fdist"
   ]
  },
  {
   "cell_type": "code",
   "execution_count": 13,
   "id": "d63a972f",
   "metadata": {},
   "outputs": [
    {
     "data": {
      "text/plain": [
       "1"
      ]
     },
     "execution_count": 13,
     "metadata": {},
     "output_type": "execute_result"
    }
   ],
   "source": [
    "fdist['vengeance']"
   ]
  },
  {
   "cell_type": "code",
   "execution_count": 14,
   "id": "f439a9f5",
   "metadata": {},
   "outputs": [
    {
     "data": {
      "text/plain": [
       "129"
      ]
     },
     "execution_count": 14,
     "metadata": {},
     "output_type": "execute_result"
    }
   ],
   "source": [
    "len(fdist)"
   ]
  },
  {
   "cell_type": "code",
   "execution_count": 15,
   "id": "476c29e9",
   "metadata": {},
   "outputs": [
    {
     "data": {
      "text/plain": [
       "[(',', 16),\n",
       " ('and', 11),\n",
       " ('.', 8),\n",
       " ('a', 7),\n",
       " ('in', 7),\n",
       " ('the', 5),\n",
       " ('of', 5),\n",
       " ('batman', 4),\n",
       " ('by', 3),\n",
       " ('his', 3)]"
      ]
     },
     "execution_count": 15,
     "metadata": {},
     "output_type": "execute_result"
    }
   ],
   "source": [
    "most_used_10 = fdist.most_common(10)\n",
    "most_used_10"
   ]
  },
  {
   "cell_type": "code",
   "execution_count": 16,
   "id": "967edf85",
   "metadata": {},
   "outputs": [
    {
     "data": {
      "text/plain": [
       "['Batman is a fictional superhero appearing in American comic books published by DC Comics. Created by artist Bob Kane and writer Bill Finger, Batman first appeared in Detective Comics #27 in 1939. He is the alter ego of Bruce Wayne, a wealthy businessman and philanthropist who witnessed the murder of his parents as a child and swore to avenge their deaths by fighting crime in Gotham City.',\n",
       " 'Unlike many superheroes, Batman does not possess superhuman powers. Instead, he relies on his intellect, detective skills, martial arts abilities, and a vast array of gadgets and technology to combat crime. His iconic costume features a bat motif, including a cape that allows him to glide, and various utility belts filled with tools and weapons.',\n",
       " \"Over the years, Batman has become one of the most popular and enduring characters in comic books, spawning numerous adaptations in other media, including television shows, films, video games, and animated series. The character's complex psychology and dark, brooding persona have made him a symbol of justice and vengeance in popular culture.\"]"
      ]
     },
     "execution_count": 16,
     "metadata": {},
     "output_type": "execute_result"
    }
   ],
   "source": [
    "from nltk.tokenize import blankline_tokenize\n",
    "BatBlank = blankline_tokenize(Batman)\n",
    "BatBlank"
   ]
  },
  {
   "cell_type": "code",
   "execution_count": 17,
   "id": "fd2b6b97",
   "metadata": {},
   "outputs": [
    {
     "data": {
      "text/plain": [
       "3"
      ]
     },
     "execution_count": 17,
     "metadata": {},
     "output_type": "execute_result"
    }
   ],
   "source": [
    "len(BatBlank)"
   ]
  },
  {
   "cell_type": "code",
   "execution_count": 18,
   "id": "77a27c1c",
   "metadata": {},
   "outputs": [
    {
     "data": {
      "text/plain": [
       "\"Over the years, Batman has become one of the most popular and enduring characters in comic books, spawning numerous adaptations in other media, including television shows, films, video games, and animated series. The character's complex psychology and dark, brooding persona have made him a symbol of justice and vengeance in popular culture.\""
      ]
     },
     "execution_count": 18,
     "metadata": {},
     "output_type": "execute_result"
    }
   ],
   "source": [
    "BatBlank[2]"
   ]
  },
  {
   "cell_type": "markdown",
   "id": "5585c40f",
   "metadata": {},
   "source": [
    "# Bigrams, Trigrams, Ngrams"
   ]
  },
  {
   "cell_type": "code",
   "execution_count": 19,
   "id": "d1b9a802",
   "metadata": {},
   "outputs": [],
   "source": [
    "from nltk.util import bigrams, trigrams, ngrams"
   ]
  },
  {
   "cell_type": "code",
   "execution_count": 20,
   "id": "f0d2086a",
   "metadata": {},
   "outputs": [
    {
     "data": {
      "text/plain": [
       "['I',\n",
       " 'wan',\n",
       " 'na',\n",
       " 'be',\n",
       " 'the',\n",
       " 'very',\n",
       " 'best',\n",
       " 'that',\n",
       " 'no',\n",
       " 'one',\n",
       " 'ever',\n",
       " 'was',\n",
       " ',',\n",
       " 'to',\n",
       " 'catch',\n",
       " 'them',\n",
       " 'all',\n",
       " 'is',\n",
       " 'my',\n",
       " 'real',\n",
       " 'test',\n",
       " ',',\n",
       " 'to',\n",
       " 'train',\n",
       " 'them',\n",
       " 'is',\n",
       " 'my',\n",
       " 'cause']"
      ]
     },
     "execution_count": 20,
     "metadata": {},
     "output_type": "execute_result"
    }
   ],
   "source": [
    "string = \"I wanna be the very best that no one ever was, to catch them all is my real test, to train them is my cause\"\n",
    "quote_tokens = nltk.word_tokenize(string)\n",
    "quote_tokens"
   ]
  },
  {
   "cell_type": "code",
   "execution_count": 21,
   "id": "8aaa7c98",
   "metadata": {},
   "outputs": [
    {
     "data": {
      "text/plain": [
       "[('I', 'wan'),\n",
       " ('wan', 'na'),\n",
       " ('na', 'be'),\n",
       " ('be', 'the'),\n",
       " ('the', 'very'),\n",
       " ('very', 'best'),\n",
       " ('best', 'that'),\n",
       " ('that', 'no'),\n",
       " ('no', 'one'),\n",
       " ('one', 'ever'),\n",
       " ('ever', 'was'),\n",
       " ('was', ','),\n",
       " (',', 'to'),\n",
       " ('to', 'catch'),\n",
       " ('catch', 'them'),\n",
       " ('them', 'all'),\n",
       " ('all', 'is'),\n",
       " ('is', 'my'),\n",
       " ('my', 'real'),\n",
       " ('real', 'test'),\n",
       " ('test', ','),\n",
       " (',', 'to'),\n",
       " ('to', 'train'),\n",
       " ('train', 'them'),\n",
       " ('them', 'is'),\n",
       " ('is', 'my'),\n",
       " ('my', 'cause')]"
      ]
     },
     "execution_count": 21,
     "metadata": {},
     "output_type": "execute_result"
    }
   ],
   "source": [
    "quote_brigram  = list(nltk.bigrams(quote_tokens))\n",
    "quote_brigram"
   ]
  },
  {
   "cell_type": "code",
   "execution_count": 22,
   "id": "73d4b882",
   "metadata": {},
   "outputs": [
    {
     "data": {
      "text/plain": [
       "[('I', 'wan', 'na'),\n",
       " ('wan', 'na', 'be'),\n",
       " ('na', 'be', 'the'),\n",
       " ('be', 'the', 'very'),\n",
       " ('the', 'very', 'best'),\n",
       " ('very', 'best', 'that'),\n",
       " ('best', 'that', 'no'),\n",
       " ('that', 'no', 'one'),\n",
       " ('no', 'one', 'ever'),\n",
       " ('one', 'ever', 'was'),\n",
       " ('ever', 'was', ','),\n",
       " ('was', ',', 'to'),\n",
       " (',', 'to', 'catch'),\n",
       " ('to', 'catch', 'them'),\n",
       " ('catch', 'them', 'all'),\n",
       " ('them', 'all', 'is'),\n",
       " ('all', 'is', 'my'),\n",
       " ('is', 'my', 'real'),\n",
       " ('my', 'real', 'test'),\n",
       " ('real', 'test', ','),\n",
       " ('test', ',', 'to'),\n",
       " (',', 'to', 'train'),\n",
       " ('to', 'train', 'them'),\n",
       " ('train', 'them', 'is'),\n",
       " ('them', 'is', 'my'),\n",
       " ('is', 'my', 'cause')]"
      ]
     },
     "execution_count": 22,
     "metadata": {},
     "output_type": "execute_result"
    }
   ],
   "source": [
    "quote_trigram  = list(nltk.trigrams(quote_tokens))\n",
    "quote_trigram"
   ]
  },
  {
   "cell_type": "code",
   "execution_count": 23,
   "id": "9c206b5a",
   "metadata": {},
   "outputs": [
    {
     "data": {
      "text/plain": [
       "[('I', 'wan', 'na', 'be', 'the'),\n",
       " ('wan', 'na', 'be', 'the', 'very'),\n",
       " ('na', 'be', 'the', 'very', 'best'),\n",
       " ('be', 'the', 'very', 'best', 'that'),\n",
       " ('the', 'very', 'best', 'that', 'no'),\n",
       " ('very', 'best', 'that', 'no', 'one'),\n",
       " ('best', 'that', 'no', 'one', 'ever'),\n",
       " ('that', 'no', 'one', 'ever', 'was'),\n",
       " ('no', 'one', 'ever', 'was', ','),\n",
       " ('one', 'ever', 'was', ',', 'to'),\n",
       " ('ever', 'was', ',', 'to', 'catch'),\n",
       " ('was', ',', 'to', 'catch', 'them'),\n",
       " (',', 'to', 'catch', 'them', 'all'),\n",
       " ('to', 'catch', 'them', 'all', 'is'),\n",
       " ('catch', 'them', 'all', 'is', 'my'),\n",
       " ('them', 'all', 'is', 'my', 'real'),\n",
       " ('all', 'is', 'my', 'real', 'test'),\n",
       " ('is', 'my', 'real', 'test', ','),\n",
       " ('my', 'real', 'test', ',', 'to'),\n",
       " ('real', 'test', ',', 'to', 'train'),\n",
       " ('test', ',', 'to', 'train', 'them'),\n",
       " (',', 'to', 'train', 'them', 'is'),\n",
       " ('to', 'train', 'them', 'is', 'my'),\n",
       " ('train', 'them', 'is', 'my', 'cause')]"
      ]
     },
     "execution_count": 23,
     "metadata": {},
     "output_type": "execute_result"
    }
   ],
   "source": [
    "quote_ngram  = list(nltk.ngrams(quote_tokens, 5))\n",
    "quote_ngram"
   ]
  },
  {
   "cell_type": "markdown",
   "id": "20b28711",
   "metadata": {},
   "source": [
    "Stemming"
   ]
  },
  {
   "cell_type": "code",
   "execution_count": 24,
   "id": "92553e76",
   "metadata": {},
   "outputs": [],
   "source": [
    "from nltk.stem import PorterStemmer \n",
    "pst = PorterStemmer()"
   ]
  },
  {
   "cell_type": "code",
   "execution_count": 25,
   "id": "8c4e65b1",
   "metadata": {},
   "outputs": [
    {
     "data": {
      "text/plain": [
       "'run'"
      ]
     },
     "execution_count": 25,
     "metadata": {},
     "output_type": "execute_result"
    }
   ],
   "source": [
    "pst.stem(\"running\")"
   ]
  },
  {
   "cell_type": "code",
   "execution_count": 26,
   "id": "a4eae45f",
   "metadata": {},
   "outputs": [
    {
     "name": "stdout",
     "output_type": "stream",
     "text": [
      "give: give\n",
      "given: given\n",
      "giver: giver\n",
      "gave: gave\n",
      "giving: give\n"
     ]
    }
   ],
   "source": [
    "stem_em = ['give', 'given', 'giver', 'gave', 'giving']\n",
    "for words in stem_em:\n",
    "    stemmed = pst.stem(words)\n",
    "    print(f'{words}: {stemmed}')"
   ]
  },
  {
   "cell_type": "code",
   "execution_count": 27,
   "id": "8201fd68",
   "metadata": {},
   "outputs": [],
   "source": [
    "from nltk.stem import LancasterStemmer\n",
    "lst = LancasterStemmer()"
   ]
  },
  {
   "cell_type": "code",
   "execution_count": 28,
   "id": "f2ddb17e",
   "metadata": {},
   "outputs": [
    {
     "name": "stdout",
     "output_type": "stream",
     "text": [
      "give: giv\n",
      "given: giv\n",
      "giver: giv\n",
      "gave: gav\n",
      "giving: giv\n"
     ]
    }
   ],
   "source": [
    "stem_em = ['give', 'given', 'giver', 'gave', 'giving']\n",
    "for words in stem_em:\n",
    "    stemmed = lst.stem(words)\n",
    "    print(f'{words}: {stemmed}')"
   ]
  },
  {
   "cell_type": "code",
   "execution_count": 29,
   "id": "318291de",
   "metadata": {},
   "outputs": [],
   "source": [
    "from nltk.stem import SnowballStemmer\n",
    "sbst = SnowballStemmer('english')"
   ]
  },
  {
   "cell_type": "code",
   "execution_count": 30,
   "id": "c7e6656e",
   "metadata": {},
   "outputs": [
    {
     "name": "stdout",
     "output_type": "stream",
     "text": [
      "give: give\n",
      "given: given\n",
      "giver: giver\n",
      "gave: gave\n",
      "giving: give\n"
     ]
    }
   ],
   "source": [
    "stem_em = ['give', 'given', 'giver', 'gave', 'giving']\n",
    "for words in stem_em:\n",
    "    stemmed = sbst.stem(words)\n",
    "    print(f'{words}: {stemmed}')"
   ]
  },
  {
   "cell_type": "markdown",
   "id": "721c66a8",
   "metadata": {},
   "source": [
    "Lemmatization"
   ]
  },
  {
   "cell_type": "code",
   "execution_count": 31,
   "id": "0212604f",
   "metadata": {},
   "outputs": [],
   "source": [
    "from nltk.stem import wordnet\n",
    "from nltk.stem import WordNetLemmatizer\n",
    "word_lem = WordNetLemmatizer()"
   ]
  },
  {
   "cell_type": "code",
   "execution_count": 32,
   "id": "19c6a0af",
   "metadata": {},
   "outputs": [
    {
     "data": {
      "text/plain": [
       "'corpus'"
      ]
     },
     "execution_count": 32,
     "metadata": {},
     "output_type": "execute_result"
    }
   ],
   "source": [
    "word_lem.lemmatize('corpora')"
   ]
  },
  {
   "cell_type": "markdown",
   "id": "d5100b14",
   "metadata": {},
   "source": [
    "Stopwords"
   ]
  },
  {
   "cell_type": "code",
   "execution_count": 33,
   "id": "5b7db36e",
   "metadata": {},
   "outputs": [],
   "source": [
    "from nltk.corpus import stopwords"
   ]
  },
  {
   "cell_type": "code",
   "execution_count": 34,
   "id": "cfb831ab",
   "metadata": {},
   "outputs": [
    {
     "data": {
      "text/plain": [
       "['i',\n",
       " 'me',\n",
       " 'my',\n",
       " 'myself',\n",
       " 'we',\n",
       " 'our',\n",
       " 'ours',\n",
       " 'ourselves',\n",
       " 'you',\n",
       " \"you're\",\n",
       " \"you've\",\n",
       " \"you'll\",\n",
       " \"you'd\",\n",
       " 'your',\n",
       " 'yours',\n",
       " 'yourself',\n",
       " 'yourselves',\n",
       " 'he',\n",
       " 'him',\n",
       " 'his',\n",
       " 'himself',\n",
       " 'she',\n",
       " \"she's\",\n",
       " 'her',\n",
       " 'hers',\n",
       " 'herself',\n",
       " 'it',\n",
       " \"it's\",\n",
       " 'its',\n",
       " 'itself',\n",
       " 'they',\n",
       " 'them',\n",
       " 'their',\n",
       " 'theirs',\n",
       " 'themselves',\n",
       " 'what',\n",
       " 'which',\n",
       " 'who',\n",
       " 'whom',\n",
       " 'this',\n",
       " 'that',\n",
       " \"that'll\",\n",
       " 'these',\n",
       " 'those',\n",
       " 'am',\n",
       " 'is',\n",
       " 'are',\n",
       " 'was',\n",
       " 'were',\n",
       " 'be',\n",
       " 'been',\n",
       " 'being',\n",
       " 'have',\n",
       " 'has',\n",
       " 'had',\n",
       " 'having',\n",
       " 'do',\n",
       " 'does',\n",
       " 'did',\n",
       " 'doing',\n",
       " 'a',\n",
       " 'an',\n",
       " 'the',\n",
       " 'and',\n",
       " 'but',\n",
       " 'if',\n",
       " 'or',\n",
       " 'because',\n",
       " 'as',\n",
       " 'until',\n",
       " 'while',\n",
       " 'of',\n",
       " 'at',\n",
       " 'by',\n",
       " 'for',\n",
       " 'with',\n",
       " 'about',\n",
       " 'against',\n",
       " 'between',\n",
       " 'into',\n",
       " 'through',\n",
       " 'during',\n",
       " 'before',\n",
       " 'after',\n",
       " 'above',\n",
       " 'below',\n",
       " 'to',\n",
       " 'from',\n",
       " 'up',\n",
       " 'down',\n",
       " 'in',\n",
       " 'out',\n",
       " 'on',\n",
       " 'off',\n",
       " 'over',\n",
       " 'under',\n",
       " 'again',\n",
       " 'further',\n",
       " 'then',\n",
       " 'once',\n",
       " 'here',\n",
       " 'there',\n",
       " 'when',\n",
       " 'where',\n",
       " 'why',\n",
       " 'how',\n",
       " 'all',\n",
       " 'any',\n",
       " 'both',\n",
       " 'each',\n",
       " 'few',\n",
       " 'more',\n",
       " 'most',\n",
       " 'other',\n",
       " 'some',\n",
       " 'such',\n",
       " 'no',\n",
       " 'nor',\n",
       " 'not',\n",
       " 'only',\n",
       " 'own',\n",
       " 'same',\n",
       " 'so',\n",
       " 'than',\n",
       " 'too',\n",
       " 'very',\n",
       " 's',\n",
       " 't',\n",
       " 'can',\n",
       " 'will',\n",
       " 'just',\n",
       " 'don',\n",
       " \"don't\",\n",
       " 'should',\n",
       " \"should've\",\n",
       " 'now',\n",
       " 'd',\n",
       " 'll',\n",
       " 'm',\n",
       " 'o',\n",
       " 're',\n",
       " 've',\n",
       " 'y',\n",
       " 'ain',\n",
       " 'aren',\n",
       " \"aren't\",\n",
       " 'couldn',\n",
       " \"couldn't\",\n",
       " 'didn',\n",
       " \"didn't\",\n",
       " 'doesn',\n",
       " \"doesn't\",\n",
       " 'hadn',\n",
       " \"hadn't\",\n",
       " 'hasn',\n",
       " \"hasn't\",\n",
       " 'haven',\n",
       " \"haven't\",\n",
       " 'isn',\n",
       " \"isn't\",\n",
       " 'ma',\n",
       " 'mightn',\n",
       " \"mightn't\",\n",
       " 'mustn',\n",
       " \"mustn't\",\n",
       " 'needn',\n",
       " \"needn't\",\n",
       " 'shan',\n",
       " \"shan't\",\n",
       " 'shouldn',\n",
       " \"shouldn't\",\n",
       " 'wasn',\n",
       " \"wasn't\",\n",
       " 'weren',\n",
       " \"weren't\",\n",
       " 'won',\n",
       " \"won't\",\n",
       " 'wouldn',\n",
       " \"wouldn't\"]"
      ]
     },
     "execution_count": 34,
     "metadata": {},
     "output_type": "execute_result"
    }
   ],
   "source": [
    "stopwords.words('english')"
   ]
  },
  {
   "cell_type": "code",
   "execution_count": 35,
   "id": "42bdc3dc",
   "metadata": {},
   "outputs": [
    {
     "data": {
      "text/plain": [
       "179"
      ]
     },
     "execution_count": 35,
     "metadata": {},
     "output_type": "execute_result"
    }
   ],
   "source": [
    "len(stopwords.words('english'))"
   ]
  },
  {
   "cell_type": "code",
   "execution_count": 36,
   "id": "bf4a1b6a",
   "metadata": {
    "scrolled": false
   },
   "outputs": [
    {
     "data": {
      "text/plain": [
       "['au',\n",
       " 'aux',\n",
       " 'avec',\n",
       " 'ce',\n",
       " 'ces',\n",
       " 'dans',\n",
       " 'de',\n",
       " 'des',\n",
       " 'du',\n",
       " 'elle',\n",
       " 'en',\n",
       " 'et',\n",
       " 'eux',\n",
       " 'il',\n",
       " 'ils',\n",
       " 'je',\n",
       " 'la',\n",
       " 'le',\n",
       " 'les',\n",
       " 'leur',\n",
       " 'lui',\n",
       " 'ma',\n",
       " 'mais',\n",
       " 'me',\n",
       " 'même',\n",
       " 'mes',\n",
       " 'moi',\n",
       " 'mon',\n",
       " 'ne',\n",
       " 'nos',\n",
       " 'notre',\n",
       " 'nous',\n",
       " 'on',\n",
       " 'ou',\n",
       " 'par',\n",
       " 'pas',\n",
       " 'pour',\n",
       " 'qu',\n",
       " 'que',\n",
       " 'qui',\n",
       " 'sa',\n",
       " 'se',\n",
       " 'ses',\n",
       " 'son',\n",
       " 'sur',\n",
       " 'ta',\n",
       " 'te',\n",
       " 'tes',\n",
       " 'toi',\n",
       " 'ton',\n",
       " 'tu',\n",
       " 'un',\n",
       " 'une',\n",
       " 'vos',\n",
       " 'votre',\n",
       " 'vous',\n",
       " 'c',\n",
       " 'd',\n",
       " 'j',\n",
       " 'l',\n",
       " 'à',\n",
       " 'm',\n",
       " 'n',\n",
       " 's',\n",
       " 't',\n",
       " 'y',\n",
       " 'été',\n",
       " 'étée',\n",
       " 'étées',\n",
       " 'étés',\n",
       " 'étant',\n",
       " 'étante',\n",
       " 'étants',\n",
       " 'étantes',\n",
       " 'suis',\n",
       " 'es',\n",
       " 'est',\n",
       " 'sommes',\n",
       " 'êtes',\n",
       " 'sont',\n",
       " 'serai',\n",
       " 'seras',\n",
       " 'sera',\n",
       " 'serons',\n",
       " 'serez',\n",
       " 'seront',\n",
       " 'serais',\n",
       " 'serait',\n",
       " 'serions',\n",
       " 'seriez',\n",
       " 'seraient',\n",
       " 'étais',\n",
       " 'était',\n",
       " 'étions',\n",
       " 'étiez',\n",
       " 'étaient',\n",
       " 'fus',\n",
       " 'fut',\n",
       " 'fûmes',\n",
       " 'fûtes',\n",
       " 'furent',\n",
       " 'sois',\n",
       " 'soit',\n",
       " 'soyons',\n",
       " 'soyez',\n",
       " 'soient',\n",
       " 'fusse',\n",
       " 'fusses',\n",
       " 'fût',\n",
       " 'fussions',\n",
       " 'fussiez',\n",
       " 'fussent',\n",
       " 'ayant',\n",
       " 'ayante',\n",
       " 'ayantes',\n",
       " 'ayants',\n",
       " 'eu',\n",
       " 'eue',\n",
       " 'eues',\n",
       " 'eus',\n",
       " 'ai',\n",
       " 'as',\n",
       " 'avons',\n",
       " 'avez',\n",
       " 'ont',\n",
       " 'aurai',\n",
       " 'auras',\n",
       " 'aura',\n",
       " 'aurons',\n",
       " 'aurez',\n",
       " 'auront',\n",
       " 'aurais',\n",
       " 'aurait',\n",
       " 'aurions',\n",
       " 'auriez',\n",
       " 'auraient',\n",
       " 'avais',\n",
       " 'avait',\n",
       " 'avions',\n",
       " 'aviez',\n",
       " 'avaient',\n",
       " 'eut',\n",
       " 'eûmes',\n",
       " 'eûtes',\n",
       " 'eurent',\n",
       " 'aie',\n",
       " 'aies',\n",
       " 'ait',\n",
       " 'ayons',\n",
       " 'ayez',\n",
       " 'aient',\n",
       " 'eusse',\n",
       " 'eusses',\n",
       " 'eût',\n",
       " 'eussions',\n",
       " 'eussiez',\n",
       " 'eussent']"
      ]
     },
     "execution_count": 36,
     "metadata": {},
     "output_type": "execute_result"
    }
   ],
   "source": [
    "stopwords.words('french')"
   ]
  },
  {
   "cell_type": "code",
   "execution_count": 37,
   "id": "988ac33e",
   "metadata": {},
   "outputs": [
    {
     "data": {
      "text/plain": [
       "157"
      ]
     },
     "execution_count": 37,
     "metadata": {},
     "output_type": "execute_result"
    }
   ],
   "source": [
    "len(stopwords.words('french'))"
   ]
  },
  {
   "cell_type": "code",
   "execution_count": 38,
   "id": "0cce6cb1",
   "metadata": {},
   "outputs": [
    {
     "data": {
      "text/plain": [
       "['অতএব',\n",
       " 'অথচ',\n",
       " 'অথবা',\n",
       " 'অনুযায়ী',\n",
       " 'অনেক',\n",
       " 'অনেকে',\n",
       " 'অনেকেই',\n",
       " 'অন্তত',\n",
       " 'অন্য',\n",
       " 'অবধি',\n",
       " 'অবশ্য',\n",
       " 'অর্থাত',\n",
       " 'আই',\n",
       " 'আগামী',\n",
       " 'আগে',\n",
       " 'আগেই',\n",
       " 'আছে',\n",
       " 'আজ',\n",
       " 'আদ্যভাগে',\n",
       " 'আপনার',\n",
       " 'আপনি',\n",
       " 'আবার',\n",
       " 'আমরা',\n",
       " 'আমাকে',\n",
       " 'আমাদের',\n",
       " 'আমার',\n",
       " 'আমি',\n",
       " 'আর',\n",
       " 'আরও',\n",
       " 'ই',\n",
       " 'ইত্যাদি',\n",
       " 'ইহা',\n",
       " 'উচিত',\n",
       " 'উত্তর',\n",
       " 'উনি',\n",
       " 'উপর',\n",
       " 'উপরে',\n",
       " 'এ',\n",
       " 'এঁদের',\n",
       " 'এঁরা',\n",
       " 'এই',\n",
       " 'একই',\n",
       " 'একটি',\n",
       " 'একবার',\n",
       " 'একে',\n",
       " 'এক্',\n",
       " 'এখন',\n",
       " 'এখনও',\n",
       " 'এখানে',\n",
       " 'এখানেই',\n",
       " 'এটা',\n",
       " 'এটাই',\n",
       " 'এটি',\n",
       " 'এত',\n",
       " 'এতটাই',\n",
       " 'এতে',\n",
       " 'এদের',\n",
       " 'এব',\n",
       " 'এবং',\n",
       " 'এবার',\n",
       " 'এমন',\n",
       " 'এমনকী',\n",
       " 'এমনি',\n",
       " 'এর',\n",
       " 'এরা',\n",
       " 'এল',\n",
       " 'এস',\n",
       " 'এসে',\n",
       " 'ঐ',\n",
       " 'ও',\n",
       " 'ওঁদের',\n",
       " 'ওঁর',\n",
       " 'ওঁরা',\n",
       " 'ওই',\n",
       " 'ওকে',\n",
       " 'ওখানে',\n",
       " 'ওদের',\n",
       " 'ওর',\n",
       " 'ওরা',\n",
       " 'কখনও',\n",
       " 'কত',\n",
       " 'কবে',\n",
       " 'কমনে',\n",
       " 'কয়েক',\n",
       " 'কয়েকটি',\n",
       " 'করছে',\n",
       " 'করছেন',\n",
       " 'করতে',\n",
       " 'করবে',\n",
       " 'করবেন',\n",
       " 'করলে',\n",
       " 'করলেন',\n",
       " 'করা',\n",
       " 'করাই',\n",
       " 'করায়',\n",
       " 'করার',\n",
       " 'করি',\n",
       " 'করিতে',\n",
       " 'করিয়া',\n",
       " 'করিয়ে',\n",
       " 'করে',\n",
       " 'করেই',\n",
       " 'করেছিলেন',\n",
       " 'করেছে',\n",
       " 'করেছেন',\n",
       " 'করেন',\n",
       " 'কাউকে',\n",
       " 'কাছ',\n",
       " 'কাছে',\n",
       " 'কাজ',\n",
       " 'কাজে',\n",
       " 'কারও',\n",
       " 'কারণ',\n",
       " 'কি',\n",
       " 'কিংবা',\n",
       " 'কিছু',\n",
       " 'কিছুই',\n",
       " 'কিন্তু',\n",
       " 'কী',\n",
       " 'কে',\n",
       " 'কেউ',\n",
       " 'কেউই',\n",
       " 'কেখা',\n",
       " 'কেন',\n",
       " 'কোটি',\n",
       " 'কোন',\n",
       " 'কোনও',\n",
       " 'কোনো',\n",
       " 'ক্ষেত্রে',\n",
       " 'কয়েক',\n",
       " 'খুব',\n",
       " 'গিয়ে',\n",
       " 'গিয়েছে',\n",
       " 'গিয়ে',\n",
       " 'গুলি',\n",
       " 'গেছে',\n",
       " 'গেল',\n",
       " 'গেলে',\n",
       " 'গোটা',\n",
       " 'চলে',\n",
       " 'চান',\n",
       " 'চায়',\n",
       " 'চার',\n",
       " 'চালু',\n",
       " 'চেয়ে',\n",
       " 'চেষ্টা',\n",
       " 'ছাড়া',\n",
       " 'ছাড়াও',\n",
       " 'ছিল',\n",
       " 'ছিলেন',\n",
       " 'জন',\n",
       " 'জনকে',\n",
       " 'জনের',\n",
       " 'জন্য',\n",
       " 'জন্যওজে',\n",
       " 'জানতে',\n",
       " 'জানা',\n",
       " 'জানানো',\n",
       " 'জানায়',\n",
       " 'জানিয়ে',\n",
       " 'জানিয়েছে',\n",
       " 'জে',\n",
       " 'জ্নজন',\n",
       " 'টি',\n",
       " 'ঠিক',\n",
       " 'তখন',\n",
       " 'তত',\n",
       " 'তথা',\n",
       " 'তবু',\n",
       " 'তবে',\n",
       " 'তা',\n",
       " 'তাঁকে',\n",
       " 'তাঁদের',\n",
       " 'তাঁর',\n",
       " 'তাঁরা',\n",
       " 'তাঁাহারা',\n",
       " 'তাই',\n",
       " 'তাও',\n",
       " 'তাকে',\n",
       " 'তাতে',\n",
       " 'তাদের',\n",
       " 'তার',\n",
       " 'তারপর',\n",
       " 'তারা',\n",
       " 'তারৈ',\n",
       " 'তাহলে',\n",
       " 'তাহা',\n",
       " 'তাহাতে',\n",
       " 'তাহার',\n",
       " 'তিনঐ',\n",
       " 'তিনি',\n",
       " 'তিনিও',\n",
       " 'তুমি',\n",
       " 'তুলে',\n",
       " 'তেমন',\n",
       " 'তো',\n",
       " 'তোমার',\n",
       " 'থাকবে',\n",
       " 'থাকবেন',\n",
       " 'থাকা',\n",
       " 'থাকায়',\n",
       " 'থাকে',\n",
       " 'থাকেন',\n",
       " 'থেকে',\n",
       " 'থেকেই',\n",
       " 'থেকেও',\n",
       " 'দিকে',\n",
       " 'দিতে',\n",
       " 'দিন',\n",
       " 'দিয়ে',\n",
       " 'দিয়েছে',\n",
       " 'দিয়েছেন',\n",
       " 'দিলেন',\n",
       " 'দু',\n",
       " 'দুই',\n",
       " 'দুটি',\n",
       " 'দুটো',\n",
       " 'দেওয়া',\n",
       " 'দেওয়ার',\n",
       " 'দেওয়া',\n",
       " 'দেখতে',\n",
       " 'দেখা',\n",
       " 'দেখে',\n",
       " 'দেন',\n",
       " 'দেয়',\n",
       " 'দ্বারা',\n",
       " 'ধরা',\n",
       " 'ধরে',\n",
       " 'ধামার',\n",
       " 'নতুন',\n",
       " 'নয়',\n",
       " 'না',\n",
       " 'নাই',\n",
       " 'নাকি',\n",
       " 'নাগাদ',\n",
       " 'নানা',\n",
       " 'নিজে',\n",
       " 'নিজেই',\n",
       " 'নিজেদের',\n",
       " 'নিজের',\n",
       " 'নিতে',\n",
       " 'নিয়ে',\n",
       " 'নিয়ে',\n",
       " 'নেই',\n",
       " 'নেওয়া',\n",
       " 'নেওয়ার',\n",
       " 'নেওয়া',\n",
       " 'নয়',\n",
       " 'পক্ষে',\n",
       " 'পর',\n",
       " 'পরে',\n",
       " 'পরেই',\n",
       " 'পরেও',\n",
       " 'পর্যন্ত',\n",
       " 'পাওয়া',\n",
       " 'পাচ',\n",
       " 'পারি',\n",
       " 'পারে',\n",
       " 'পারেন',\n",
       " 'পি',\n",
       " 'পেয়ে',\n",
       " 'পেয়্র্',\n",
       " 'প্রতি',\n",
       " 'প্রথম',\n",
       " 'প্রভৃতি',\n",
       " 'প্রযন্ত',\n",
       " 'প্রাথমিক',\n",
       " 'প্রায়',\n",
       " 'প্রায়',\n",
       " 'ফলে',\n",
       " 'ফিরে',\n",
       " 'ফের',\n",
       " 'বক্তব্য',\n",
       " 'বদলে',\n",
       " 'বন',\n",
       " 'বরং',\n",
       " 'বলতে',\n",
       " 'বলল',\n",
       " 'বললেন',\n",
       " 'বলা',\n",
       " 'বলে',\n",
       " 'বলেছেন',\n",
       " 'বলেন',\n",
       " 'বসে',\n",
       " 'বহু',\n",
       " 'বা',\n",
       " 'বাদে',\n",
       " 'বার',\n",
       " 'বি',\n",
       " 'বিনা',\n",
       " 'বিভিন্ন',\n",
       " 'বিশেষ',\n",
       " 'বিষয়টি',\n",
       " 'বেশ',\n",
       " 'বেশি',\n",
       " 'ব্যবহার',\n",
       " 'ব্যাপারে',\n",
       " 'ভাবে',\n",
       " 'ভাবেই',\n",
       " 'মতো',\n",
       " 'মতোই',\n",
       " 'মধ্যভাগে',\n",
       " 'মধ্যে',\n",
       " 'মধ্যেই',\n",
       " 'মধ্যেও',\n",
       " 'মনে',\n",
       " 'মাত্র',\n",
       " 'মাধ্যমে',\n",
       " 'মোট',\n",
       " 'মোটেই',\n",
       " 'যখন',\n",
       " 'যত',\n",
       " 'যতটা',\n",
       " 'যথেষ্ট',\n",
       " 'যদি',\n",
       " 'যদিও',\n",
       " 'যা',\n",
       " 'যাঁর',\n",
       " 'যাঁরা',\n",
       " 'যাওয়া',\n",
       " 'যাওয়ার',\n",
       " 'যাওয়া',\n",
       " 'যাকে',\n",
       " 'যাচ্ছে',\n",
       " 'যাতে',\n",
       " 'যাদের',\n",
       " 'যান',\n",
       " 'যাবে',\n",
       " 'যায়',\n",
       " 'যার',\n",
       " 'যারা',\n",
       " 'যিনি',\n",
       " 'যে',\n",
       " 'যেখানে',\n",
       " 'যেতে',\n",
       " 'যেন',\n",
       " 'যেমন',\n",
       " 'র',\n",
       " 'রকম',\n",
       " 'রয়েছে',\n",
       " 'রাখা',\n",
       " 'রেখে',\n",
       " 'লক্ষ',\n",
       " 'শুধু',\n",
       " 'শুরু',\n",
       " 'সঙ্গে',\n",
       " 'সঙ্গেও',\n",
       " 'সব',\n",
       " 'সবার',\n",
       " 'সমস্ত',\n",
       " 'সম্প্রতি',\n",
       " 'সহ',\n",
       " 'সহিত',\n",
       " 'সাধারণ',\n",
       " 'সামনে',\n",
       " 'সি',\n",
       " 'সুতরাং',\n",
       " 'সে',\n",
       " 'সেই',\n",
       " 'সেখান',\n",
       " 'সেখানে',\n",
       " 'সেটা',\n",
       " 'সেটাই',\n",
       " 'সেটাও',\n",
       " 'সেটি',\n",
       " 'স্পষ্ট',\n",
       " 'স্বয়ং',\n",
       " 'হইতে',\n",
       " 'হইবে',\n",
       " 'হইয়া',\n",
       " 'হওয়া',\n",
       " 'হওয়ায়',\n",
       " 'হওয়ার',\n",
       " 'হচ্ছে',\n",
       " 'হত',\n",
       " 'হতে',\n",
       " 'হতেই',\n",
       " 'হন',\n",
       " 'হবে',\n",
       " 'হবেন',\n",
       " 'হয়',\n",
       " 'হয়তো',\n",
       " 'হয়নি',\n",
       " 'হয়ে',\n",
       " 'হয়েই',\n",
       " 'হয়েছিল',\n",
       " 'হয়েছে',\n",
       " 'হয়েছেন',\n",
       " 'হল',\n",
       " 'হলে',\n",
       " 'হলেই',\n",
       " 'হলেও',\n",
       " 'হলো',\n",
       " 'হাজার',\n",
       " 'হিসাবে',\n",
       " 'হৈলে',\n",
       " 'হোক',\n",
       " 'হয়']"
      ]
     },
     "execution_count": 38,
     "metadata": {},
     "output_type": "execute_result"
    }
   ],
   "source": [
    "stopwords.words('bengali')"
   ]
  },
  {
   "cell_type": "code",
   "execution_count": 39,
   "id": "e4c7e7f0",
   "metadata": {},
   "outputs": [
    {
     "data": {
      "text/plain": [
       "398"
      ]
     },
     "execution_count": 39,
     "metadata": {},
     "output_type": "execute_result"
    }
   ],
   "source": [
    "len(stopwords.words('bengali'))"
   ]
  },
  {
   "cell_type": "code",
   "execution_count": 40,
   "id": "511a4841",
   "metadata": {},
   "outputs": [],
   "source": [
    "import re\n",
    "punc = re.compile(r'[-.,?!:;|0-9]')"
   ]
  },
  {
   "cell_type": "code",
   "execution_count": 41,
   "id": "668c619a",
   "metadata": {},
   "outputs": [
    {
     "data": {
      "text/plain": [
       "['Batman',\n",
       " 'is',\n",
       " 'a',\n",
       " 'fictional',\n",
       " 'superhero',\n",
       " 'appearing',\n",
       " 'in',\n",
       " 'American',\n",
       " 'comic',\n",
       " 'books',\n",
       " 'published',\n",
       " 'by',\n",
       " 'DC',\n",
       " 'Comics',\n",
       " 'Created',\n",
       " 'by',\n",
       " 'artist',\n",
       " 'Bob',\n",
       " 'Kane',\n",
       " 'and',\n",
       " 'writer',\n",
       " 'Bill',\n",
       " 'Finger',\n",
       " 'Batman',\n",
       " 'first',\n",
       " 'appeared',\n",
       " 'in',\n",
       " 'Detective',\n",
       " 'Comics',\n",
       " '#',\n",
       " 'in',\n",
       " 'He',\n",
       " 'is',\n",
       " 'the',\n",
       " 'alter',\n",
       " 'ego',\n",
       " 'of',\n",
       " 'Bruce',\n",
       " 'Wayne',\n",
       " 'a',\n",
       " 'wealthy',\n",
       " 'businessman',\n",
       " 'and',\n",
       " 'philanthropist',\n",
       " 'who',\n",
       " 'witnessed',\n",
       " 'the',\n",
       " 'murder',\n",
       " 'of',\n",
       " 'his',\n",
       " 'parents',\n",
       " 'as',\n",
       " 'a',\n",
       " 'child',\n",
       " 'and',\n",
       " 'swore',\n",
       " 'to',\n",
       " 'avenge',\n",
       " 'their',\n",
       " 'deaths',\n",
       " 'by',\n",
       " 'fighting',\n",
       " 'crime',\n",
       " 'in',\n",
       " 'Gotham',\n",
       " 'City',\n",
       " 'Unlike',\n",
       " 'many',\n",
       " 'superheroes',\n",
       " 'Batman',\n",
       " 'does',\n",
       " 'not',\n",
       " 'possess',\n",
       " 'superhuman',\n",
       " 'powers',\n",
       " 'Instead',\n",
       " 'he',\n",
       " 'relies',\n",
       " 'on',\n",
       " 'his',\n",
       " 'intellect',\n",
       " 'detective',\n",
       " 'skills',\n",
       " 'martial',\n",
       " 'arts',\n",
       " 'abilities',\n",
       " 'and',\n",
       " 'a',\n",
       " 'vast',\n",
       " 'array',\n",
       " 'of',\n",
       " 'gadgets',\n",
       " 'and',\n",
       " 'technology',\n",
       " 'to',\n",
       " 'combat',\n",
       " 'crime',\n",
       " 'His',\n",
       " 'iconic',\n",
       " 'costume',\n",
       " 'features',\n",
       " 'a',\n",
       " 'bat',\n",
       " 'motif',\n",
       " 'including',\n",
       " 'a',\n",
       " 'cape',\n",
       " 'that',\n",
       " 'allows',\n",
       " 'him',\n",
       " 'to',\n",
       " 'glide',\n",
       " 'and',\n",
       " 'various',\n",
       " 'utility',\n",
       " 'belts',\n",
       " 'filled',\n",
       " 'with',\n",
       " 'tools',\n",
       " 'and',\n",
       " 'weapons',\n",
       " 'Over',\n",
       " 'the',\n",
       " 'years',\n",
       " 'Batman',\n",
       " 'has',\n",
       " 'become',\n",
       " 'one',\n",
       " 'of',\n",
       " 'the',\n",
       " 'most',\n",
       " 'popular',\n",
       " 'and',\n",
       " 'enduring',\n",
       " 'characters',\n",
       " 'in',\n",
       " 'comic',\n",
       " 'books',\n",
       " 'spawning',\n",
       " 'numerous',\n",
       " 'adaptations',\n",
       " 'in',\n",
       " 'other',\n",
       " 'media',\n",
       " 'including',\n",
       " 'television',\n",
       " 'shows',\n",
       " 'films',\n",
       " 'video',\n",
       " 'games',\n",
       " 'and',\n",
       " 'animated',\n",
       " 'series',\n",
       " 'The',\n",
       " 'character',\n",
       " \"'s\",\n",
       " 'complex',\n",
       " 'psychology',\n",
       " 'and',\n",
       " 'dark',\n",
       " 'brooding',\n",
       " 'persona',\n",
       " 'have',\n",
       " 'made',\n",
       " 'him',\n",
       " 'a',\n",
       " 'symbol',\n",
       " 'of',\n",
       " 'justice',\n",
       " 'and',\n",
       " 'vengeance',\n",
       " 'in',\n",
       " 'popular',\n",
       " 'culture']"
      ]
     },
     "execution_count": 41,
     "metadata": {},
     "output_type": "execute_result"
    }
   ],
   "source": [
    "post_punc = []\n",
    "for words in BatTokens:\n",
    "    words = punc.sub(\"\",words)\n",
    "    if len(words)>0:\n",
    "        post_punc.append(words)\n",
    "post_punc"
   ]
  },
  {
   "cell_type": "markdown",
   "id": "7e961d50",
   "metadata": {},
   "source": [
    "Parts of Speech"
   ]
  },
  {
   "cell_type": "code",
   "execution_count": 42,
   "id": "6f9becdc",
   "metadata": {},
   "outputs": [],
   "source": [
    "sentence = \"Orange cats all share one braincell and clearly today is not Monty's turn to use it\"\n",
    "sent_token = word_tokenize(sentence)"
   ]
  },
  {
   "cell_type": "code",
   "execution_count": 43,
   "id": "fda2afce",
   "metadata": {},
   "outputs": [
    {
     "name": "stdout",
     "output_type": "stream",
     "text": [
      "[('Orange', 'NN')]\n",
      "[('cats', 'NNS')]\n",
      "[('all', 'DT')]\n",
      "[('share', 'NN')]\n",
      "[('one', 'CD')]\n",
      "[('braincell', 'NN')]\n",
      "[('and', 'CC')]\n",
      "[('clearly', 'RB')]\n",
      "[('today', 'NN')]\n",
      "[('is', 'VBZ')]\n",
      "[('not', 'RB')]\n",
      "[('Monty', 'NN')]\n",
      "[(\"'s\", 'POS')]\n",
      "[('turn', 'NN')]\n",
      "[('to', 'TO')]\n",
      "[('use', 'NN')]\n",
      "[('it', 'PRP')]\n"
     ]
    }
   ],
   "source": [
    "for token in sent_token:\n",
    "    print(nltk.pos_tag([token]))"
   ]
  },
  {
   "cell_type": "markdown",
   "id": "a912d3bd",
   "metadata": {},
   "source": [
    "Named Entity Recognition"
   ]
  },
  {
   "cell_type": "code",
   "execution_count": 44,
   "id": "32475d2c",
   "metadata": {},
   "outputs": [],
   "source": [
    "from nltk import ne_chunk"
   ]
  },
  {
   "cell_type": "code",
   "execution_count": 45,
   "id": "981c4761",
   "metadata": {},
   "outputs": [],
   "source": [
    "NeSent1 = \"The US President stays in the White House\""
   ]
  },
  {
   "cell_type": "code",
   "execution_count": 46,
   "id": "8532c6be",
   "metadata": {},
   "outputs": [],
   "source": [
    "Ne_tokens1 = word_tokenize(NeSent1)\n",
    "NE_tags1 = nltk.pos_tag(Ne_tokens1)"
   ]
  },
  {
   "cell_type": "code",
   "execution_count": 47,
   "id": "d64d8545",
   "metadata": {},
   "outputs": [
    {
     "name": "stdout",
     "output_type": "stream",
     "text": [
      "(S\n",
      "  The/DT\n",
      "  (ORGANIZATION US/NNP)\n",
      "  President/NNP\n",
      "  stays/VBZ\n",
      "  in/IN\n",
      "  the/DT\n",
      "  (FACILITY White/NNP House/NNP))\n"
     ]
    }
   ],
   "source": [
    "NE_NER1 = ne_chunk(NE_tags1)\n",
    "print(NE_NER1)"
   ]
  },
  {
   "cell_type": "markdown",
   "id": "791a3cf0",
   "metadata": {},
   "source": [
    "Chunking"
   ]
  },
  {
   "cell_type": "code",
   "execution_count": 48,
   "id": "23d4ca82",
   "metadata": {},
   "outputs": [
    {
     "data": {
      "text/plain": [
       "[('The', 'DT'),\n",
       " ('orange', 'NN'),\n",
       " ('cat', 'NN'),\n",
       " ('and', 'CC'),\n",
       " ('the', 'DT'),\n",
       " ('black', 'JJ'),\n",
       " ('cat', 'NN'),\n",
       " ('sat', 'VBD'),\n",
       " ('in', 'IN'),\n",
       " ('the', 'DT'),\n",
       " ('broken', 'JJ'),\n",
       " ('chair', 'NN'),\n",
       " ('by', 'IN'),\n",
       " ('the', 'DT'),\n",
       " ('kitchen', 'NN'),\n",
       " ('door', 'NN')]"
      ]
     },
     "execution_count": 48,
     "metadata": {},
     "output_type": "execute_result"
    }
   ],
   "source": [
    "sent = \"The orange cat and the black cat sat in the broken chair by the kitchen door\"\n",
    "tokens = nltk.pos_tag(word_tokenize(sent))\n",
    "tokens"
   ]
  },
  {
   "cell_type": "code",
   "execution_count": 49,
   "id": "85b823a9",
   "metadata": {},
   "outputs": [],
   "source": [
    "grammar_np = r\"NP: {<DT>?<JJ>*<NN>}\""
   ]
  },
  {
   "cell_type": "code",
   "execution_count": 50,
   "id": "36edd182",
   "metadata": {},
   "outputs": [],
   "source": [
    "chunk_parser = nltk.RegexpParser(grammar_np)"
   ]
  },
  {
   "cell_type": "code",
   "execution_count": 51,
   "id": "6204442a",
   "metadata": {},
   "outputs": [
    {
     "ename": "ModuleNotFoundError",
     "evalue": "No module named 'svgling'",
     "output_type": "error",
     "traceback": [
      "\u001b[1;31m---------------------------------------------------------------------------\u001b[0m",
      "\u001b[1;31mModuleNotFoundError\u001b[0m                       Traceback (most recent call last)",
      "File \u001b[1;32m~\\AppData\\Roaming\\Python\\Python311\\site-packages\\IPython\\core\\formatters.py:344\u001b[0m, in \u001b[0;36mBaseFormatter.__call__\u001b[1;34m(self, obj)\u001b[0m\n\u001b[0;32m    342\u001b[0m     method \u001b[38;5;241m=\u001b[39m get_real_method(obj, \u001b[38;5;28mself\u001b[39m\u001b[38;5;241m.\u001b[39mprint_method)\n\u001b[0;32m    343\u001b[0m     \u001b[38;5;28;01mif\u001b[39;00m method \u001b[38;5;129;01mis\u001b[39;00m \u001b[38;5;129;01mnot\u001b[39;00m \u001b[38;5;28;01mNone\u001b[39;00m:\n\u001b[1;32m--> 344\u001b[0m         \u001b[38;5;28;01mreturn\u001b[39;00m \u001b[43mmethod\u001b[49m\u001b[43m(\u001b[49m\u001b[43m)\u001b[49m\n\u001b[0;32m    345\u001b[0m     \u001b[38;5;28;01mreturn\u001b[39;00m \u001b[38;5;28;01mNone\u001b[39;00m\n\u001b[0;32m    346\u001b[0m \u001b[38;5;28;01melse\u001b[39;00m:\n",
      "File \u001b[1;32m~\\anaconda3\\Lib\\site-packages\\nltk\\tree\\tree.py:783\u001b[0m, in \u001b[0;36mTree._repr_svg_\u001b[1;34m(self)\u001b[0m\n\u001b[0;32m    782\u001b[0m \u001b[38;5;28;01mdef\u001b[39;00m \u001b[38;5;21m_repr_svg_\u001b[39m(\u001b[38;5;28mself\u001b[39m):\n\u001b[1;32m--> 783\u001b[0m     \u001b[38;5;28;01mfrom\u001b[39;00m \u001b[38;5;21;01msvgling\u001b[39;00m \u001b[38;5;28;01mimport\u001b[39;00m draw_tree\n\u001b[0;32m    785\u001b[0m     \u001b[38;5;28;01mreturn\u001b[39;00m draw_tree(\u001b[38;5;28mself\u001b[39m)\u001b[38;5;241m.\u001b[39m_repr_svg_()\n",
      "\u001b[1;31mModuleNotFoundError\u001b[0m: No module named 'svgling'"
     ]
    },
    {
     "data": {
      "text/plain": [
       "Tree('S', [Tree('NP', [('The', 'DT'), ('orange', 'NN')]), Tree('NP', [('cat', 'NN')]), ('and', 'CC'), Tree('NP', [('the', 'DT'), ('black', 'JJ'), ('cat', 'NN')]), ('sat', 'VBD'), ('in', 'IN'), Tree('NP', [('the', 'DT'), ('broken', 'JJ'), ('chair', 'NN')]), ('by', 'IN'), Tree('NP', [('the', 'DT'), ('kitchen', 'NN')]), Tree('NP', [('door', 'NN')])])"
      ]
     },
     "execution_count": 51,
     "metadata": {},
     "output_type": "execute_result"
    }
   ],
   "source": [
    "chunk_results = chunk_parser.parse(tokens)\n",
    "chunk_results"
   ]
  }
 ],
 "metadata": {
  "kernelspec": {
   "display_name": "Python 3 (ipykernel)",
   "language": "python",
   "name": "python3"
  },
  "language_info": {
   "codemirror_mode": {
    "name": "ipython",
    "version": 3
   },
   "file_extension": ".py",
   "mimetype": "text/x-python",
   "name": "python",
   "nbconvert_exporter": "python",
   "pygments_lexer": "ipython3",
   "version": "3.11.3"
  }
 },
 "nbformat": 4,
 "nbformat_minor": 5
}
